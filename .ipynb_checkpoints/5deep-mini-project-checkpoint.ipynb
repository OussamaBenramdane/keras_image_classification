{
 "cells": [
  {
   "cell_type": "code",
   "execution_count": 1,
   "metadata": {
    "_cell_guid": "b1076dfc-b9ad-4769-8c92-a6c4dae69d19",
    "_uuid": "8f2839f25d086af736a60e9eeb907d3b93b6e0e5",
    "execution": {
     "iopub.execute_input": "2022-04-05T17:32:24.828241Z",
     "iopub.status.busy": "2022-04-05T17:32:24.827902Z",
     "iopub.status.idle": "2022-04-05T17:32:32.304114Z",
     "shell.execute_reply": "2022-04-05T17:32:32.303219Z",
     "shell.execute_reply.started": "2022-04-05T17:32:24.828154Z"
    }
   },
   "outputs": [
    {
     "ename": "ModuleNotFoundError",
     "evalue": "No module named 'cv2'",
     "output_type": "error",
     "traceback": [
      "\u001b[1;31m---------------------------------------------------------------------------\u001b[0m",
      "\u001b[1;31mModuleNotFoundError\u001b[0m                       Traceback (most recent call last)",
      "\u001b[1;32m<ipython-input-1-63f0b53d5cc0>\u001b[0m in \u001b[0;36m<module>\u001b[1;34m\u001b[0m\n\u001b[0;32m      4\u001b[0m \u001b[1;32mimport\u001b[0m \u001b[0mmatplotlib\u001b[0m\u001b[1;33m.\u001b[0m\u001b[0mpyplot\u001b[0m \u001b[1;32mas\u001b[0m \u001b[0mplt\u001b[0m\u001b[1;33m\u001b[0m\u001b[1;33m\u001b[0m\u001b[0m\n\u001b[0;32m      5\u001b[0m \u001b[1;32mfrom\u001b[0m \u001b[0mmatplotlib\u001b[0m\u001b[1;33m.\u001b[0m\u001b[0mimage\u001b[0m \u001b[1;32mimport\u001b[0m \u001b[0mimread\u001b[0m\u001b[1;33m\u001b[0m\u001b[1;33m\u001b[0m\u001b[0m\n\u001b[1;32m----> 6\u001b[1;33m \u001b[1;32mimport\u001b[0m \u001b[0mcv2\u001b[0m\u001b[1;33m\u001b[0m\u001b[1;33m\u001b[0m\u001b[0m\n\u001b[0m\u001b[0;32m      7\u001b[0m \u001b[1;32mimport\u001b[0m \u001b[0mrandom\u001b[0m\u001b[1;33m\u001b[0m\u001b[1;33m\u001b[0m\u001b[0m\n\u001b[0;32m      8\u001b[0m \u001b[1;32mfrom\u001b[0m \u001b[0mos\u001b[0m \u001b[1;32mimport\u001b[0m \u001b[0mlistdir\u001b[0m\u001b[1;33m\u001b[0m\u001b[1;33m\u001b[0m\u001b[0m\n",
      "\u001b[1;31mModuleNotFoundError\u001b[0m: No module named 'cv2'"
     ]
    }
   ],
   "source": [
    "# Important imports\n",
    "import numpy as np\n",
    "import pandas as pd\n",
    "import matplotlib.pyplot as plt\n",
    "from matplotlib.image import imread\n",
    "import cv2\n",
    "import random\n",
    "from os import listdir\n",
    "from sklearn.preprocessing import  LabelBinarizer\n",
    "from keras.preprocessing import image\n",
    "from keras.preprocessing.image import img_to_array, array_to_img\n",
    "import tensorflow as tf\n",
    "from tensorflow import keras\n",
    "from tensorflow.keras.optimizers import Adam\n",
    "from PIL import Image\n",
    "from keras.models import Sequential\n",
    "from tensorflow.keras.layers import BatchNormalization\n",
    "from keras.layers import Conv2D, MaxPooling2D, Activation, Flatten, Dropout, Dense, LeakyReLU\n",
    "from sklearn.model_selection import train_test_split"
   ]
  },
  {
   "cell_type": "code",
   "execution_count": null,
   "metadata": {
    "execution": {
     "iopub.execute_input": "2022-04-05T17:32:47.463864Z",
     "iopub.status.busy": "2022-04-05T17:32:47.46358Z",
     "iopub.status.idle": "2022-04-05T17:32:53.756935Z",
     "shell.execute_reply": "2022-04-05T17:32:53.756048Z",
     "shell.execute_reply.started": "2022-04-05T17:32:47.463826Z"
    }
   },
   "outputs": [],
   "source": [
    "# Plotting 25 images to check dataset\n",
    "\n",
    "plt.figure(figsize=(11,11))\n",
    "path =\"../input/5deepmini-project/train/seg_train/mountain\"\n",
    "for i in range(1,26):\n",
    "    plt.subplot(5,5,i)\n",
    "    plt.tight_layout()\n",
    "    rand_img = imread(path +'/'+ random.choice(sorted(listdir(path))))\n",
    "    plt.imshow(rand_img)\n",
    "    plt.title('mountain')\n",
    "    plt.xlabel(rand_img.shape[1], fontsize = 10)\n",
    "    plt.ylabel(rand_img.shape[0], fontsize = 10)"
   ]
  },
  {
   "cell_type": "code",
   "execution_count": null,
   "metadata": {
    "execution": {
     "iopub.execute_input": "2022-04-05T17:42:43.408686Z",
     "iopub.status.busy": "2022-04-05T17:42:43.407106Z",
     "iopub.status.idle": "2022-04-05T17:42:43.423741Z",
     "shell.execute_reply": "2022-04-05T17:42:43.423028Z",
     "shell.execute_reply.started": "2022-04-05T17:42:43.408618Z"
    }
   },
   "outputs": [],
   "source": [
    "# Setting root directory path and creating empty list\n",
    "from os import listdir\n",
    "dir = \"../input/5deepmini-project/train/seg_train\"\n",
    "root_dir = listdir(dir)\n",
    "image_list, label_list = [], []"
   ]
  },
  {
   "cell_type": "code",
   "execution_count": null,
   "metadata": {
    "execution": {
     "iopub.execute_input": "2022-04-05T17:42:47.190465Z",
     "iopub.status.busy": "2022-04-05T17:42:47.189527Z",
     "iopub.status.idle": "2022-04-05T17:44:33.908947Z",
     "shell.execute_reply": "2022-04-05T17:44:33.907987Z",
     "shell.execute_reply.started": "2022-04-05T17:42:47.19042Z"
    }
   },
   "outputs": [],
   "source": [
    "# Reading and converting image to numpy array\n",
    "from PIL import Image\n",
    "\n",
    "for directory in root_dir:\n",
    "    for files in listdir(f\"{dir}/{directory}\"):\n",
    "        image_path = f\"{dir}/{directory}/{files}\"\n",
    "        image = Image.open(image_path)\n",
    "        image = image.resize((150,150)) # All images does not have same dimension\n",
    "        image = img_to_array(image)\n",
    "        image_list.append(image)\n",
    "        label_list.append(directory)"
   ]
  },
  {
   "cell_type": "code",
   "execution_count": null,
   "metadata": {
    "execution": {
     "iopub.execute_input": "2022-04-05T17:44:33.91079Z",
     "iopub.status.busy": "2022-04-05T17:44:33.91057Z",
     "iopub.status.idle": "2022-04-05T17:44:33.95323Z",
     "shell.execute_reply": "2022-04-05T17:44:33.952264Z",
     "shell.execute_reply.started": "2022-04-05T17:44:33.910764Z"
    }
   },
   "outputs": [],
   "source": [
    "# Visualize the number of classes count\n",
    "label_counts = pd.DataFrame(label_list).value_counts()\n",
    "label_counts"
   ]
  },
  {
   "cell_type": "code",
   "execution_count": null,
   "metadata": {
    "execution": {
     "iopub.execute_input": "2022-04-05T17:44:33.955422Z",
     "iopub.status.busy": "2022-04-05T17:44:33.9545Z",
     "iopub.status.idle": "2022-04-05T17:44:33.962385Z",
     "shell.execute_reply": "2022-04-05T17:44:33.961522Z",
     "shell.execute_reply.started": "2022-04-05T17:44:33.955376Z"
    }
   },
   "outputs": [],
   "source": [
    "# Checking count of classes\n",
    "num_classes = len(label_counts)\n",
    "num_classes"
   ]
  },
  {
   "cell_type": "code",
   "execution_count": null,
   "metadata": {
    "execution": {
     "iopub.execute_input": "2022-04-05T17:44:33.96435Z",
     "iopub.status.busy": "2022-04-05T17:44:33.963936Z",
     "iopub.status.idle": "2022-04-05T17:44:35.690197Z",
     "shell.execute_reply": "2022-04-05T17:44:35.689362Z",
     "shell.execute_reply.started": "2022-04-05T17:44:33.964273Z"
    }
   },
   "outputs": [],
   "source": [
    "# Checking x data shape\n",
    "np.array(image_list).shape"
   ]
  },
  {
   "cell_type": "code",
   "execution_count": null,
   "metadata": {
    "execution": {
     "iopub.execute_input": "2022-04-05T17:44:35.691495Z",
     "iopub.status.busy": "2022-04-05T17:44:35.691236Z",
     "iopub.status.idle": "2022-04-05T17:44:35.699183Z",
     "shell.execute_reply": "2022-04-05T17:44:35.698452Z",
     "shell.execute_reply.started": "2022-04-05T17:44:35.691466Z"
    }
   },
   "outputs": [],
   "source": [
    "# Checking y data shape\n",
    "label_list = np.array(label_list)\n",
    "label_list.shape"
   ]
  },
  {
   "cell_type": "code",
   "execution_count": null,
   "metadata": {
    "execution": {
     "iopub.execute_input": "2022-04-05T17:44:35.700644Z",
     "iopub.status.busy": "2022-04-05T17:44:35.700437Z",
     "iopub.status.idle": "2022-04-05T17:44:35.721922Z",
     "shell.execute_reply": "2022-04-05T17:44:35.721129Z",
     "shell.execute_reply.started": "2022-04-05T17:44:35.700618Z"
    }
   },
   "outputs": [],
   "source": [
    "# Train test split\n",
    "x_train, x_val, y_train, y_val = train_test_split(image_list, label_list, test_size=0.33, random_state=42)"
   ]
  },
  {
   "cell_type": "code",
   "execution_count": null,
   "metadata": {
    "execution": {
     "iopub.execute_input": "2022-04-05T17:44:35.725847Z",
     "iopub.status.busy": "2022-04-05T17:44:35.725426Z",
     "iopub.status.idle": "2022-04-05T17:44:55.365798Z",
     "shell.execute_reply": "2022-04-05T17:44:55.365083Z",
     "shell.execute_reply.started": "2022-04-05T17:44:35.725809Z"
    }
   },
   "outputs": [],
   "source": [
    "# Normalize and reshape data\n",
    "x_train = np.array(x_train, dtype=np.float16) / 225.0\n",
    "x_test = np.array(x_val, dtype=np.float16) / 225.0\n",
    "x_train = x_train.reshape( -1, 150,150,3)\n",
    "x_test = x_test.reshape( -1, 150,150,3)"
   ]
  },
  {
   "cell_type": "code",
   "execution_count": null,
   "metadata": {
    "execution": {
     "iopub.execute_input": "2022-04-05T17:44:55.367055Z",
     "iopub.status.busy": "2022-04-05T17:44:55.366856Z",
     "iopub.status.idle": "2022-04-05T17:44:55.386199Z",
     "shell.execute_reply": "2022-04-05T17:44:55.38551Z",
     "shell.execute_reply.started": "2022-04-05T17:44:55.367031Z"
    }
   },
   "outputs": [],
   "source": [
    "# Binarizing labels\n",
    "lb = LabelBinarizer()\n",
    "y_train = lb.fit_transform(y_train)\n",
    "y_test = lb.fit_transform(y_val)"
   ]
  },
  {
   "cell_type": "code",
   "execution_count": null,
   "metadata": {
    "execution": {
     "iopub.execute_input": "2022-04-05T17:52:04.287521Z",
     "iopub.status.busy": "2022-04-05T17:52:04.287041Z",
     "iopub.status.idle": "2022-04-05T17:52:04.299384Z",
     "shell.execute_reply": "2022-04-05T17:52:04.2985Z",
     "shell.execute_reply.started": "2022-04-05T17:52:04.287473Z"
    }
   },
   "outputs": [],
   "source": [
    "# Function to create model\n",
    "def create_model():\n",
    "    model = Sequential()\n",
    "    model.add(Conv2D(filters=32, kernel_size=(3,3), activation=\"relu\", padding='same', input_shape=[150, 150, 3]))\n",
    "    model.add(MaxPooling2D(pool_size=2))\n",
    "    model.add(Conv2D(filters=64, kernel_size=(3,3), activation=\"relu\", padding='same'))\n",
    "    model.add(MaxPooling2D(pool_size=2))\n",
    "    model.add(Conv2D(filters=128, kernel_size=(3,3), activation=\"relu\", padding='same'))\n",
    "    model.add(MaxPooling2D(pool_size=2))\n",
    "    model.add(Flatten())\n",
    "    model.add(Dropout(0.3))\n",
    "    model.add(BatchNormalization())\n",
    "    model.add(Dense(32, activation=\"relu\"))\n",
    "    model.add(Dropout(0.3))\n",
    "    model.add(BatchNormalization())\n",
    "    model.add(Dense(num_classes, activation='softmax'))\n",
    "    # Compiling model\n",
    "    model.compile(\n",
    "        optimizer='adam',\n",
    "        loss='binary_crossentropy',\n",
    "        metrics=['accuracy']\n",
    "    )\n",
    "    return model"
   ]
  },
  {
   "cell_type": "code",
   "execution_count": null,
   "metadata": {
    "execution": {
     "iopub.execute_input": "2022-04-05T16:54:46.191368Z",
     "iopub.status.busy": "2022-04-05T16:54:46.190559Z",
     "iopub.status.idle": "2022-04-05T16:54:46.316805Z",
     "shell.execute_reply": "2022-04-05T16:54:46.315861Z",
     "shell.execute_reply.started": "2022-04-05T16:54:46.191324Z"
    }
   },
   "outputs": [],
   "source": [
    "# Creating model\n",
    "model = create_model()"
   ]
  },
  {
   "cell_type": "code",
   "execution_count": null,
   "metadata": {
    "execution": {
     "iopub.execute_input": "2022-04-05T16:54:51.614481Z",
     "iopub.status.busy": "2022-04-05T16:54:51.614183Z",
     "iopub.status.idle": "2022-04-05T16:54:51.626514Z",
     "shell.execute_reply": "2022-04-05T16:54:51.6256Z",
     "shell.execute_reply.started": "2022-04-05T16:54:51.614449Z"
    }
   },
   "outputs": [],
   "source": [
    "model.summary()"
   ]
  },
  {
   "cell_type": "code",
   "execution_count": null,
   "metadata": {
    "execution": {
     "iopub.execute_input": "2022-04-05T15:54:58.576048Z",
     "iopub.status.busy": "2022-04-05T15:54:58.575221Z",
     "iopub.status.idle": "2022-04-05T16:36:37.727516Z",
     "shell.execute_reply": "2022-04-05T16:36:37.726641Z",
     "shell.execute_reply.started": "2022-04-05T15:54:58.576014Z"
    }
   },
   "outputs": [],
   "source": [
    "# Training the model\n",
    "history = model.fit(\n",
    "    x_train,\n",
    "    y_train,\n",
    "    batch_size=128,\n",
    "    epochs=20,\n",
    "    validation_split=0.2\n",
    ")"
   ]
  },
  {
   "cell_type": "code",
   "execution_count": null,
   "metadata": {
    "execution": {
     "iopub.execute_input": "2022-04-05T17:52:09.109736Z",
     "iopub.status.busy": "2022-04-05T17:52:09.109466Z",
     "iopub.status.idle": "2022-04-05T17:52:09.115801Z",
     "shell.execute_reply": "2022-04-05T17:52:09.114847Z",
     "shell.execute_reply.started": "2022-04-05T17:52:09.109706Z"
    }
   },
   "outputs": [],
   "source": [
    "# Training model with different parameters\n",
    "from sklearn.model_selection import GridSearchCV\n",
    "from keras.wrappers.scikit_learn import KerasClassifier\n",
    "\n",
    "# create model\n",
    "second_model = KerasClassifier(build_fn=create_model, verbose=0)\n",
    "\n",
    "early_stopping = keras.callbacks.EarlyStopping(\n",
    "    patience=10,\n",
    "    min_delta=0.001,\n",
    "    restore_best_weights=True,\n",
    ")"
   ]
  },
  {
   "cell_type": "code",
   "execution_count": null,
   "metadata": {
    "execution": {
     "iopub.execute_input": "2022-04-05T17:52:14.783034Z",
     "iopub.status.busy": "2022-04-05T17:52:14.782765Z"
    }
   },
   "outputs": [],
   "source": [
    "# define the grid search parameters\n",
    "#optimizer = ['SGD', 'Adam']\n",
    "#dropout_rate = [0.3, 0.4, 0.5]\n",
    "batch_size = [32, 64, 256, 512]\n",
    "epochs = [10, 30, 50, 100]\n",
    "callbacks=[early_stopping]\n",
    "param_grid = dict(batch_size=batch_size, epochs=epochs, callbacks=callbacks)\n",
    "grid = GridSearchCV(estimator=second_model, param_grid=param_grid, scoring='accuracy', n_jobs=-1, cv=3)\n",
    "grid_result = grid.fit(x_train, y_train)"
   ]
  },
  {
   "cell_type": "code",
   "execution_count": null,
   "metadata": {
    "execution": {
     "iopub.execute_input": "2022-04-05T11:05:30.151154Z",
     "iopub.status.busy": "2022-04-05T11:05:30.1502Z",
     "iopub.status.idle": "2022-04-05T11:05:30.261308Z",
     "shell.execute_reply": "2022-04-05T11:05:30.260377Z",
     "shell.execute_reply.started": "2022-04-05T11:05:30.151063Z"
    }
   },
   "outputs": [],
   "source": [
    "# Saving model\n",
    "model.save(\"trained_model.h5\")"
   ]
  },
  {
   "cell_type": "code",
   "execution_count": null,
   "metadata": {
    "execution": {
     "iopub.execute_input": "2022-04-05T14:49:56.359676Z",
     "iopub.status.busy": "2022-04-05T14:49:56.359227Z",
     "iopub.status.idle": "2022-04-05T14:49:56.638465Z",
     "shell.execute_reply": "2022-04-05T14:49:56.637415Z",
     "shell.execute_reply.started": "2022-04-05T14:49:56.35964Z"
    }
   },
   "outputs": [],
   "source": [
    "#Plot the training history\n",
    "history_df = pd.DataFrame(history.history)\n",
    "history_df.loc[5:, ['accuracy', 'val_accuracy']].plot()"
   ]
  },
  {
   "cell_type": "code",
   "execution_count": null,
   "metadata": {
    "execution": {
     "iopub.execute_input": "2022-04-05T14:50:08.881058Z",
     "iopub.status.busy": "2022-04-05T14:50:08.880737Z",
     "iopub.status.idle": "2022-04-05T14:50:09.133469Z",
     "shell.execute_reply": "2022-04-05T14:50:09.13288Z",
     "shell.execute_reply.started": "2022-04-05T14:50:08.881025Z"
    }
   },
   "outputs": [],
   "source": [
    "#Plot the loss history\n",
    "history_df.loc[5:, ['loss']].plot()"
   ]
  },
  {
   "cell_type": "code",
   "execution_count": null,
   "metadata": {
    "execution": {
     "iopub.execute_input": "2022-04-05T11:25:06.860995Z",
     "iopub.status.busy": "2022-04-05T11:25:06.860678Z",
     "iopub.status.idle": "2022-04-05T11:25:27.719521Z",
     "shell.execute_reply": "2022-04-05T11:25:27.718635Z",
     "shell.execute_reply.started": "2022-04-05T11:25:06.86096Z"
    }
   },
   "outputs": [],
   "source": [
    "# Calculating test accuracy \n",
    "model.evaluate(x_test, y_test, verbose=0)"
   ]
  },
  {
   "cell_type": "code",
   "execution_count": null,
   "metadata": {},
   "outputs": [],
   "source": [
    "# Storing model predictions\n",
    "___"
   ]
  }
 ],
 "metadata": {
  "kernelspec": {
   "display_name": "Python 3 (ipykernel)",
   "language": "python",
   "name": "python3"
  },
  "language_info": {
   "codemirror_mode": {
    "name": "ipython",
    "version": 3
   },
   "file_extension": ".py",
   "mimetype": "text/x-python",
   "name": "python",
   "nbconvert_exporter": "python",
   "pygments_lexer": "ipython3",
   "version": "3.9.7"
  }
 },
 "nbformat": 4,
 "nbformat_minor": 4
}
